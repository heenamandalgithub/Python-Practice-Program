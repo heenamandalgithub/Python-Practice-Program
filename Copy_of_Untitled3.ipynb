{
  "nbformat": 4,
  "nbformat_minor": 0,
  "metadata": {
    "colab": {
      "name": "Copy of Untitled3.ipynb",
      "provenance": [],
      "collapsed_sections": [],
      "authorship_tag": "ABX9TyMngt8Eo0IATQkE+O6iQcgk",
      "include_colab_link": true
    },
    "kernelspec": {
      "name": "python3",
      "display_name": "Python 3"
    },
    "language_info": {
      "name": "python"
    }
  },
  "cells": [
    {
      "cell_type": "markdown",
      "metadata": {
        "id": "view-in-github",
        "colab_type": "text"
      },
      "source": [
        "<a href=\"https://colab.research.google.com/github/heenamandalgithub/Python-Practice-Program/blob/main/Copy_of_Untitled3.ipynb\" target=\"_parent\"><img src=\"https://colab.research.google.com/assets/colab-badge.svg\" alt=\"Open In Colab\"/></a>"
      ]
    },
    {
      "cell_type": "code",
      "source": [
        "from scipy.special import cbrt\n",
        "cb = cbrt([27, 64])\n",
        "print(cb)"
      ],
      "metadata": {
        "colab": {
          "base_uri": "https://localhost:8080/"
        },
        "id": "zVO6nOHoN4Pu",
        "outputId": "0f22808b-99f7-46fb-c3ef-8763ed80cfae"
      },
      "execution_count": null,
      "outputs": [
        {
          "output_type": "stream",
          "name": "stdout",
          "text": [
            "[3. 4.]\n"
          ]
        }
      ]
    },
    {
      "cell_type": "code",
      "source": [
        "from scipy.special import exp10\n",
        "exp = exp10([2,9])\n",
        "print(exp)\n"
      ],
      "metadata": {
        "colab": {
          "base_uri": "https://localhost:8080/"
        },
        "id": "WpuB4A6GN_3t",
        "outputId": "f4301b92-500b-41f6-837d-bb1776b2ec88"
      },
      "execution_count": null,
      "outputs": [
        {
          "output_type": "stream",
          "name": "stdout",
          "text": [
            "[1.e+02 1.e+09]\n"
          ]
        }
      ]
    },
    {
      "cell_type": "code",
      "source": [
        "from scipy.special import comb\n",
        "com = comb(8, 2, exact = False, repetition=True)\n",
        "print(com)"
      ],
      "metadata": {
        "colab": {
          "base_uri": "https://localhost:8080/"
        },
        "id": "iKuv3NdgOKUo",
        "outputId": "27595f4f-382f-4ee5-d773-c0b673f9a6a2"
      },
      "execution_count": null,
      "outputs": [
        {
          "output_type": "stream",
          "name": "stdout",
          "text": [
            "36.0\n"
          ]
        }
      ]
    },
    {
      "cell_type": "code",
      "source": [
        "from scipy.special import perm\n",
        "per = perm(8, 2, exact = True)\n",
        "print(per)\n"
      ],
      "metadata": {
        "colab": {
          "base_uri": "https://localhost:8080/"
        },
        "id": "3hQFSLGMOQuM",
        "outputId": "7de3ecb3-12d8-4139-8865-3248c4fc0c68"
      },
      "execution_count": null,
      "outputs": [
        {
          "output_type": "stream",
          "name": "stdout",
          "text": [
            "56\n"
          ]
        }
      ]
    },
    {
      "cell_type": "code",
      "source": [
        "from scipy import linalg\n",
        "import numpy as np\n",
        "two_d_array = np.array([ [4,5], [3,2] ])\n",
        "linalg.det( two_d_array )"
      ],
      "metadata": {
        "colab": {
          "base_uri": "https://localhost:8080/"
        },
        "id": "QOoTU30mOXis",
        "outputId": "c0f3e556-352d-4d69-c690-d5b40d0fd93c"
      },
      "execution_count": null,
      "outputs": [
        {
          "output_type": "execute_result",
          "data": {
            "text/plain": [
              "-7.0"
            ]
          },
          "metadata": {},
          "execution_count": 5
        }
      ]
    },
    {
      "cell_type": "code",
      "source": [
        "from scipy import linalg\n",
        "import numpy as np\n",
        "two_d_array = np.array([ [3,5], [3,2] ])\n",
        "linalg.inv( two_d_array )"
      ],
      "metadata": {
        "colab": {
          "base_uri": "https://localhost:8080/"
        },
        "id": "tborZWnJOgF8",
        "outputId": "31049880-6472-4e4c-e7f0-2de578c05e73"
      },
      "execution_count": null,
      "outputs": [
        {
          "output_type": "execute_result",
          "data": {
            "text/plain": [
              "array([[-0.22222222,  0.55555556],\n",
              "       [ 0.33333333, -0.33333333]])"
            ]
          },
          "metadata": {},
          "execution_count": 6
        }
      ]
    },
    {
      "cell_type": "code",
      "source": [
        "from scipy import linalg\n",
        "import numpy as np\n",
        "arr = np.array([[5,3],[6,4]])\n",
        "eg_val, eg_vect = linalg.eig(arr)\n",
        "print(eg_val)\n",
        "print(eg_vect)\n",
        "\n"
      ],
      "metadata": {
        "colab": {
          "base_uri": "https://localhost:8080/"
        },
        "id": "X_LtpXYyOoZl",
        "outputId": "17383edd-41e7-4c98-a68f-dda3f6599804"
      },
      "execution_count": null,
      "outputs": [
        {
          "output_type": "stream",
          "name": "stdout",
          "text": [
            "[8.77200187+0.j 0.22799813+0.j]\n",
            "[[ 0.62246561 -0.53222953]\n",
            " [ 0.78264715  0.8466001 ]]\n"
          ]
        }
      ]
    },
    {
      "cell_type": "code",
      "source": [
        "from scipy import integrate\n",
        "a=lambda y,x:x*y**2\n",
        "b=lambda x:1\n",
        "c=lambda x:-1\n",
        "integrate.dblquad(a,0,2,b,c)"
      ],
      "metadata": {
        "colab": {
          "base_uri": "https://localhost:8080/"
        },
        "id": "i0UPMhr7PfCt",
        "outputId": "d0fdeb12-22a2-470a-fe2c-ed4f87403f62"
      },
      "execution_count": null,
      "outputs": [
        {
          "output_type": "execute_result",
          "data": {
            "text/plain": [
              "(-1.3333333333333335, 1.4802973661668755e-14)"
            ]
          },
          "metadata": {},
          "execution_count": 12
        }
      ]
    }
  ]
}