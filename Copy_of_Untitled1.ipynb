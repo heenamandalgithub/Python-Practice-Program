{
  "nbformat": 4,
  "nbformat_minor": 0,
  "metadata": {
    "colab": {
      "name": "Copy of Untitled1.ipynb",
      "provenance": [],
      "collapsed_sections": [],
      "authorship_tag": "ABX9TyOxFoYIZ90hGBT1jh9v4u74",
      "include_colab_link": true
    },
    "kernelspec": {
      "name": "python3",
      "display_name": "Python 3"
    },
    "language_info": {
      "name": "python"
    }
  },
  "cells": [
    {
      "cell_type": "markdown",
      "metadata": {
        "id": "view-in-github",
        "colab_type": "text"
      },
      "source": [
        "<a href=\"https://colab.research.google.com/github/heenamandalgithub/Python-Practice-Program/blob/main/Copy_of_Untitled1.ipynb\" target=\"_parent\"><img src=\"https://colab.research.google.com/assets/colab-badge.svg\" alt=\"Open In Colab\"/></a>"
      ]
    },
    {
      "cell_type": "code",
      "execution_count": null,
      "metadata": {
        "colab": {
          "base_uri": "https://localhost:8080/"
        },
        "id": "SReEumPmESNv",
        "outputId": "04e6b8b2-7001-4e7f-f943-1cd704fa866f"
      },
      "outputs": [
        {
          "output_type": "stream",
          "name": "stdout",
          "text": [
            "   X   Y   Z\n",
            "0  1   6  11\n",
            "1  2   7  12\n",
            "2  3   8  13\n",
            "3  4   9  14\n",
            "4  5  10  15\n"
          ]
        }
      ],
      "source": [
        "import pandas as pd\n",
        "df=pd.DataFrame({'X':[1,2,3,4,5],'Y':[6,7,8,9,10],'Z':[11,12,13,14,15]})\n",
        "print(df)"
      ]
    },
    {
      "cell_type": "code",
      "source": [
        "import pandas as pd\n",
        "s=pd.Series([1,3,5,7,9])\n",
        "print(s)"
      ],
      "metadata": {
        "colab": {
          "base_uri": "https://localhost:8080/"
        },
        "id": "Z7XQFX-aFJ6X",
        "outputId": "e4788d13-1210-42af-c54a-312c8d1ad6a7"
      },
      "execution_count": null,
      "outputs": [
        {
          "output_type": "stream",
          "name": "stdout",
          "text": [
            "0    1\n",
            "1    3\n",
            "2    5\n",
            "3    7\n",
            "4    9\n",
            "dtype: int64\n"
          ]
        }
      ]
    },
    {
      "cell_type": "code",
      "source": [
        "import pandas as pd\n",
        "series1=pd.Series([5,6,7,8])\n",
        "print(series1)"
      ],
      "metadata": {
        "colab": {
          "base_uri": "https://localhost:8080/"
        },
        "id": "AEuMQPyMH2l6",
        "outputId": "b07e4bcc-5ce7-4279-fafa-cea356f2c697"
      },
      "execution_count": null,
      "outputs": [
        {
          "output_type": "stream",
          "name": "stdout",
          "text": [
            "0    5\n",
            "1    6\n",
            "2    7\n",
            "3    8\n",
            "dtype: int64\n"
          ]
        }
      ]
    },
    {
      "cell_type": "code",
      "source": [
        "import pandas as pd\n",
        "import sys\n",
        "sys.__stdout__=sys.stdout\n",
        "series1=pd.Series([5,6,7,8])\n",
        "print(series1)"
      ],
      "metadata": {
        "colab": {
          "base_uri": "https://localhost:8080/"
        },
        "id": "kF2-R_SxIGZO",
        "outputId": "d162f7a7-878e-45a9-9288-dcb8cab50142"
      },
      "execution_count": null,
      "outputs": [
        {
          "output_type": "stream",
          "name": "stdout",
          "text": [
            "0    5\n",
            "1    6\n",
            "2    7\n",
            "3    8\n",
            "dtype: int64\n"
          ]
        }
      ]
    },
    {
      "cell_type": "code",
      "source": [
        "import pandas as pd\n",
        "import numpy as np\n",
        "import sys\n",
        "sys.__stdout__=sys.stdout\n",
        "fruits=np.array(['fig','orange','mango','banana'])\n",
        "series1=pd.Series(fruits)\n",
        "print(series1)"
      ],
      "metadata": {
        "colab": {
          "base_uri": "https://localhost:8080/"
        },
        "id": "jtPqnYK0IeMV",
        "outputId": "78a8f5a1-845b-4e6d-e107-5e8b017aea0a"
      },
      "execution_count": null,
      "outputs": [
        {
          "output_type": "stream",
          "name": "stdout",
          "text": [
            "0       fig\n",
            "1    orange\n",
            "2     mango\n",
            "3    banana\n",
            "dtype: object\n"
          ]
        }
      ]
    },
    {
      "cell_type": "code",
      "source": [
        "import pandas as pd\n",
        "df=pd.DataFrame({\n",
        "    \"Column 1\":[6,7,8,9,10],\n",
        "    \"Column 2\":['a','col','with','a','string'],\n",
        "    \"Column 3\":[123,235,456,32.123,89.453],\n",
        "    \"Column 4\":[True,False,True,False,True]\n",
        "})\n",
        "print(df)"
      ],
      "metadata": {
        "colab": {
          "base_uri": "https://localhost:8080/"
        },
        "id": "jRw6vaadI_ky",
        "outputId": "de132919-8185-4324-f336-08160bf16979"
      },
      "execution_count": null,
      "outputs": [
        {
          "output_type": "stream",
          "name": "stdout",
          "text": [
            "   Column 1 Column 2  Column 3  Column 4\n",
            "0         6        a   123.000      True\n",
            "1         7      col   235.000     False\n",
            "2         8     with   456.000      True\n",
            "3         9        a    32.123     False\n",
            "4        10   string    89.453      True\n"
          ]
        }
      ]
    },
    {
      "cell_type": "code",
      "source": [
        "import pandas as pd\n",
        "mylist=[34,45,55,65,78]\n",
        "df=pd.DataFrame(mylist)\n",
        "print(df)"
      ],
      "metadata": {
        "colab": {
          "base_uri": "https://localhost:8080/"
        },
        "id": "wysk4qwjJxuU",
        "outputId": "19e89d86-6389-4565-acb2-6a904bb2e37a"
      },
      "execution_count": null,
      "outputs": [
        {
          "output_type": "stream",
          "name": "stdout",
          "text": [
            "    0\n",
            "0  34\n",
            "1  45\n",
            "2  55\n",
            "3  65\n",
            "4  78\n"
          ]
        }
      ]
    },
    {
      "cell_type": "code",
      "source": [
        "import pandas as pd\n",
        "items=[['Phone',15000],['TV',10000],['Radio',2000]]\n",
        "df=pd.DataFrame(items,columns=['item','Price'],dtype=float)\n",
        "print(df)"
      ],
      "metadata": {
        "colab": {
          "base_uri": "https://localhost:8080/"
        },
        "id": "FAbxwJy_Ka6L",
        "outputId": "0d2ce7be-b950-4271-95eb-77bd55309959"
      },
      "execution_count": null,
      "outputs": [
        {
          "output_type": "stream",
          "name": "stdout",
          "text": [
            "    item    Price\n",
            "0  Phone  15000.0\n",
            "1     TV  10000.0\n",
            "2  Radio   2000.0\n"
          ]
        },
        {
          "output_type": "stream",
          "name": "stderr",
          "text": [
            "/usr/local/lib/python3.7/dist-packages/IPython/core/interactiveshell.py:2882: FutureWarning: Could not cast to float64, falling back to object. This behavior is deprecated. In a future version, when a dtype is passed to 'DataFrame', either all columns will be cast to that dtype, or a TypeError will be raised\n",
            "  exec(code_obj, self.user_global_ns, self.user_ns)\n"
          ]
        }
      ]
    }
  ]
}